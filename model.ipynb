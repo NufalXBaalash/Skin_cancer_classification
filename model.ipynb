{
 "cells": [
  {
   "cell_type": "markdown",
   "metadata": {},
   "source": [
    "## About Data"
   ]
  },
  {
   "cell_type": "markdown",
   "metadata": {},
   "source": [
    "A training set for academic machine learning can be created using the dataset, which comprises of 10015 dermatoscopic images. All significant diagnostic categories for pigmented lesions are represented in the cases in a representative manner:\n",
    "\n",
    " - Actinic keratoses and intraepithelial carcinoma / Bowen's disease (akiec),\n",
    " - basal cell carcinoma (bcc),\n",
    " - benign keratosis-like lesions (solar lentigines / seborrheic keratoses and lichen-planus like keratoses, bkl),\n",
    " - dermatofibroma (df),\n",
    " - melanoma (mel),\n",
    " - melanocytic nevi (nv) and\n",
    " - vascular lesions (angiomas, angiokeratomas, pyogenic granulomas and hemorrhage, vasc).\n",
    " \n",
    "Histopathology (histo) is used to confirm more than 50% of lesions; in the remaining cases, follow-up exams, expert consensus, or in-vivo confocal microscopy confirmation are used as the gold standard (confocal).\n",
    "\n",
    "Dataset Collected from:\n",
    "https://dataverse.harvard.edu/dataset.xhtml?persistentId=doi:10.7910/DVN/DBW86T"
   ]
  },
  {
   "cell_type": "code",
   "execution_count": 2,
   "metadata": {},
   "outputs": [],
   "source": [
    "import pandas as pd\n",
    "import numpy as np\n",
    "import matplotlib.pyplot as plt\n",
    "import seaborn as sns\n",
    "import tensorflow as tf\n",
    "import PIL"
   ]
  },
  {
   "cell_type": "code",
   "execution_count": 3,
   "metadata": {},
   "outputs": [
    {
     "data": {
      "text/html": [
       "<div>\n",
       "<style scoped>\n",
       "    .dataframe tbody tr th:only-of-type {\n",
       "        vertical-align: middle;\n",
       "    }\n",
       "\n",
       "    .dataframe tbody tr th {\n",
       "        vertical-align: top;\n",
       "    }\n",
       "\n",
       "    .dataframe thead th {\n",
       "        text-align: right;\n",
       "    }\n",
       "</style>\n",
       "<table border=\"1\" class=\"dataframe\">\n",
       "  <thead>\n",
       "    <tr style=\"text-align: right;\">\n",
       "      <th></th>\n",
       "      <th>lesion_id</th>\n",
       "      <th>image_id</th>\n",
       "      <th>dx</th>\n",
       "      <th>dx_type</th>\n",
       "      <th>age</th>\n",
       "      <th>sex</th>\n",
       "      <th>localization</th>\n",
       "    </tr>\n",
       "  </thead>\n",
       "  <tbody>\n",
       "    <tr>\n",
       "      <th>0</th>\n",
       "      <td>HAM_0000118</td>\n",
       "      <td>ISIC_0027419</td>\n",
       "      <td>bkl</td>\n",
       "      <td>histo</td>\n",
       "      <td>80.0</td>\n",
       "      <td>male</td>\n",
       "      <td>scalp</td>\n",
       "    </tr>\n",
       "    <tr>\n",
       "      <th>1</th>\n",
       "      <td>HAM_0000118</td>\n",
       "      <td>ISIC_0025030</td>\n",
       "      <td>bkl</td>\n",
       "      <td>histo</td>\n",
       "      <td>80.0</td>\n",
       "      <td>male</td>\n",
       "      <td>scalp</td>\n",
       "    </tr>\n",
       "    <tr>\n",
       "      <th>2</th>\n",
       "      <td>HAM_0002730</td>\n",
       "      <td>ISIC_0026769</td>\n",
       "      <td>bkl</td>\n",
       "      <td>histo</td>\n",
       "      <td>80.0</td>\n",
       "      <td>male</td>\n",
       "      <td>scalp</td>\n",
       "    </tr>\n",
       "    <tr>\n",
       "      <th>3</th>\n",
       "      <td>HAM_0002730</td>\n",
       "      <td>ISIC_0025661</td>\n",
       "      <td>bkl</td>\n",
       "      <td>histo</td>\n",
       "      <td>80.0</td>\n",
       "      <td>male</td>\n",
       "      <td>scalp</td>\n",
       "    </tr>\n",
       "    <tr>\n",
       "      <th>4</th>\n",
       "      <td>HAM_0001466</td>\n",
       "      <td>ISIC_0031633</td>\n",
       "      <td>bkl</td>\n",
       "      <td>histo</td>\n",
       "      <td>75.0</td>\n",
       "      <td>male</td>\n",
       "      <td>ear</td>\n",
       "    </tr>\n",
       "  </tbody>\n",
       "</table>\n",
       "</div>"
      ],
      "text/plain": [
       "     lesion_id      image_id   dx dx_type   age   sex localization\n",
       "0  HAM_0000118  ISIC_0027419  bkl   histo  80.0  male        scalp\n",
       "1  HAM_0000118  ISIC_0025030  bkl   histo  80.0  male        scalp\n",
       "2  HAM_0002730  ISIC_0026769  bkl   histo  80.0  male        scalp\n",
       "3  HAM_0002730  ISIC_0025661  bkl   histo  80.0  male        scalp\n",
       "4  HAM_0001466  ISIC_0031633  bkl   histo  75.0  male          ear"
      ]
     },
     "execution_count": 3,
     "metadata": {},
     "output_type": "execute_result"
    }
   ],
   "source": [
    "data = r\"Skin Cancer\"\n",
    "metadata = pd.read_csv(\"HAM10000_metadata.csv\")\n",
    "metadata.head()"
   ]
  },
  {
   "cell_type": "markdown",
   "metadata": {},
   "source": [
    "## Making Categories for each Skin Cancer"
   ]
  },
  {
   "cell_type": "code",
   "execution_count": 4,
   "metadata": {},
   "outputs": [],
   "source": [
    "import os\n",
    "import shutil\n",
    "import pandas as pd\n",
    "\n",
    "# Load metadata (assuming a CSV file)\n",
    "metadata = pd.read_csv(\"HAM10000_metadata.csv\")  # Adjust the filename accordingly\n",
    "\n",
    "# Folder containing images\n",
    "image_folder = r\"Skin Cancer\"\n",
    "\n",
    "# Ensure destination directory exists\n",
    "destination_root = \"Categories\"\n",
    "os.makedirs(destination_root, exist_ok=True)\n",
    "\n",
    "# Process images\n",
    "for filename in os.listdir(image_folder):\n",
    "    if filename.lower().endswith(('.png', '.jpg', '.jpeg', '.gif', '.bmp', '.tiff', '.webp')):  \n",
    "        image_path = os.path.join(image_folder, filename)\n",
    "        image_name = os.path.splitext(filename)[0]  # Extract filename without extension\n",
    "\n",
    "        print(f\"Processing: {image_name}\")\n",
    "\n",
    "        # Find metadata entry\n",
    "        matched_rows = metadata[metadata[\"image_id\"] == image_name]\n",
    "\n",
    "        if not matched_rows.empty:\n",
    "            dx_category = matched_rows.iloc[0][\"dx\"]  # Extract category\n",
    "            destination_folder = os.path.join(destination_root, dx_category)\n",
    "            os.makedirs(destination_folder, exist_ok=True)\n",
    "\n",
    "            # Move the image with its original extension\n",
    "            shutil.move(image_path, os.path.join(destination_folder, filename))\n"
   ]
  },
  {
   "cell_type": "code",
   "execution_count": 10,
   "metadata": {},
   "outputs": [
    {
     "name": "stdout",
     "output_type": "stream",
     "text": [
      "Found 7957 images belonging to 7 classes.\n",
      "Found 1986 images belonging to 7 classes.\n"
     ]
    }
   ],
   "source": [
    "from keras.preprocessing.image import ImageDataGenerator\n",
    "\n",
    "\n",
    "train = \"Categories\"\n",
    "val = \"Test Data\"\n",
    "img_width , img_height = 128 , 128\n",
    "input_shape = (img_width, img_height, 3)\n",
    "\n",
    "train_datagen = ImageDataGenerator(\n",
    "    rescale=1./255,\n",
    "    rotation_range=40,\n",
    "    width_shift_range=0.2,\n",
    "    height_shift_range=0.2,\n",
    "    shear_range=0.2,\n",
    "    zoom_range=0.2,\n",
    "    horizontal_flip=True,\n",
    "    fill_mode='nearest',\n",
    "    validation_split=0.2  # Add validation split\n",
    ")\n",
    "\n",
    "train_generator = train_datagen.flow_from_directory(\n",
    "    train,\n",
    "    target_size=(img_width, img_height),\n",
    "    batch_size=32,\n",
    "    class_mode='categorical',\n",
    "    subset='training'  # ← Important\n",
    ")\n",
    "\n",
    "val_generator = train_datagen.flow_from_directory(\n",
    "    train,  # same directory\n",
    "    target_size=(img_width, img_height),\n",
    "    batch_size=32,\n",
    "    class_mode='categorical',\n",
    "    subset='validation'  # ← Important\n",
    ")\n"
   ]
  },
  {
   "cell_type": "code",
   "execution_count": 11,
   "metadata": {},
   "outputs": [
    {
     "name": "stdout",
     "output_type": "stream",
     "text": [
      "Model: \"sequential_1\"\n",
      "_________________________________________________________________\n",
      " Layer (type)                Output Shape              Param #   \n",
      "=================================================================\n",
      " conv2d_3 (Conv2D)           (None, 126, 126, 32)      896       \n",
      "                                                                 \n",
      " max_pooling2d_3 (MaxPooling  (None, 63, 63, 32)       0         \n",
      " 2D)                                                             \n",
      "                                                                 \n",
      " conv2d_4 (Conv2D)           (None, 61, 61, 64)        18496     \n",
      "                                                                 \n",
      " max_pooling2d_4 (MaxPooling  (None, 30, 30, 64)       0         \n",
      " 2D)                                                             \n",
      "                                                                 \n",
      " conv2d_5 (Conv2D)           (None, 28, 28, 128)       73856     \n",
      "                                                                 \n",
      " max_pooling2d_5 (MaxPooling  (None, 14, 14, 128)      0         \n",
      " 2D)                                                             \n",
      "                                                                 \n",
      " flatten_1 (Flatten)         (None, 25088)             0         \n",
      "                                                                 \n",
      " dense_2 (Dense)             (None, 512)               12845568  \n",
      "                                                                 \n",
      " dropout_1 (Dropout)         (None, 512)               0         \n",
      "                                                                 \n",
      " dense_3 (Dense)             (None, 7)                 3591      \n",
      "                                                                 \n",
      "=================================================================\n",
      "Total params: 12,942,407\n",
      "Trainable params: 12,942,407\n",
      "Non-trainable params: 0\n",
      "_________________________________________________________________\n"
     ]
    }
   ],
   "source": [
    "model = tf.keras.models.Sequential([\n",
    "    tf.keras.layers.Conv2D(32 , (3,3) , activation='relu',input_shape = input_shape),\n",
    "    tf.keras.layers.MaxPooling2D(2,2),\n",
    "    \n",
    "    tf.keras.layers.Conv2D(64 , (3,3) , activation='relu'),\n",
    "    tf.keras.layers.MaxPooling2D(2,2),\n",
    "    \n",
    "    tf.keras.layers.Conv2D(128 , (3,3), activation='relu'),\n",
    "    tf.keras.layers.MaxPooling2D(2,2),\n",
    "    \n",
    "    tf.keras.layers.Flatten(),\n",
    "    tf.keras.layers.Dense(512 , activation='relu'),\n",
    "    tf.keras.layers.Dropout(0.5),\n",
    "    tf.keras.layers.Dense(7 , activation='softmax')\n",
    "])\n",
    "\n",
    "model.compile(optimizer='adam' , loss='categorical_crossentropy' , metrics=['accuracy'])\n",
    "model.summary()"
   ]
  },
  {
   "cell_type": "code",
   "execution_count": 12,
   "metadata": {},
   "outputs": [
    {
     "name": "stdout",
     "output_type": "stream",
     "text": [
      "Epoch 1/20\n",
      "248/248 [==============================] - 78s 312ms/step - loss: 1.0601 - accuracy: 0.6675 - val_loss: 0.9366 - val_accuracy: 0.6734\n",
      "Epoch 2/20\n",
      "248/248 [==============================] - 73s 294ms/step - loss: 0.9639 - accuracy: 0.6714 - val_loss: 0.8733 - val_accuracy: 0.6729\n",
      "Epoch 3/20\n",
      "248/248 [==============================] - 74s 299ms/step - loss: 0.9411 - accuracy: 0.6697 - val_loss: 0.9182 - val_accuracy: 0.6749\n",
      "Epoch 4/20\n",
      "248/248 [==============================] - 72s 291ms/step - loss: 0.9248 - accuracy: 0.6712 - val_loss: 0.8819 - val_accuracy: 0.6739\n",
      "Epoch 5/20\n",
      "248/248 [==============================] - 73s 293ms/step - loss: 0.9024 - accuracy: 0.6723 - val_loss: 0.8941 - val_accuracy: 0.6815\n",
      "Epoch 6/20\n",
      "248/248 [==============================] - 72s 291ms/step - loss: 0.8967 - accuracy: 0.6779 - val_loss: 0.8692 - val_accuracy: 0.6744\n",
      "Epoch 7/20\n",
      "248/248 [==============================] - 72s 290ms/step - loss: 0.8717 - accuracy: 0.6810 - val_loss: 0.8187 - val_accuracy: 0.6865\n",
      "Epoch 8/20\n",
      "248/248 [==============================] - 74s 297ms/step - loss: 0.8572 - accuracy: 0.6825 - val_loss: 0.7971 - val_accuracy: 0.7016\n",
      "Epoch 9/20\n",
      "248/248 [==============================] - 77s 310ms/step - loss: 0.8426 - accuracy: 0.6853 - val_loss: 0.8124 - val_accuracy: 0.6941\n",
      "Epoch 10/20\n",
      "248/248 [==============================] - 77s 311ms/step - loss: 0.8150 - accuracy: 0.6901 - val_loss: 0.7585 - val_accuracy: 0.6966\n",
      "Epoch 11/20\n",
      "248/248 [==============================] - 72s 288ms/step - loss: 0.8026 - accuracy: 0.7003 - val_loss: 0.7403 - val_accuracy: 0.7167\n",
      "Epoch 12/20\n",
      "248/248 [==============================] - 75s 304ms/step - loss: 0.7790 - accuracy: 0.7044 - val_loss: 0.7149 - val_accuracy: 0.7334\n",
      "Epoch 13/20\n",
      "248/248 [==============================] - 69s 277ms/step - loss: 0.7691 - accuracy: 0.7066 - val_loss: 0.7415 - val_accuracy: 0.7238\n",
      "Epoch 14/20\n",
      "248/248 [==============================] - 68s 276ms/step - loss: 0.7557 - accuracy: 0.7191 - val_loss: 0.8414 - val_accuracy: 0.7016\n",
      "Epoch 15/20\n",
      "248/248 [==============================] - 67s 271ms/step - loss: 0.7549 - accuracy: 0.7163 - val_loss: 0.7247 - val_accuracy: 0.7319\n",
      "Epoch 16/20\n",
      "248/248 [==============================] - 61s 247ms/step - loss: 0.7382 - accuracy: 0.7274 - val_loss: 0.7083 - val_accuracy: 0.7193\n",
      "Epoch 17/20\n",
      "248/248 [==============================] - 62s 248ms/step - loss: 0.7426 - accuracy: 0.7234 - val_loss: 0.6770 - val_accuracy: 0.7424\n",
      "Epoch 18/20\n",
      "248/248 [==============================] - 62s 248ms/step - loss: 0.7276 - accuracy: 0.7269 - val_loss: 0.6904 - val_accuracy: 0.7419\n",
      "Epoch 19/20\n",
      "248/248 [==============================] - 61s 247ms/step - loss: 0.7232 - accuracy: 0.7336 - val_loss: 0.6622 - val_accuracy: 0.7505\n",
      "Epoch 20/20\n",
      "248/248 [==============================] - 69s 277ms/step - loss: 0.7315 - accuracy: 0.7249 - val_loss: 0.6523 - val_accuracy: 0.7560\n"
     ]
    }
   ],
   "source": [
    "tf.debugging.set_log_device_placement(True)\n",
    "history = model.fit(\n",
    "    train_generator,\n",
    "    validation_data=val_generator,\n",
    "    steps_per_epoch=train_generator.samples // train_generator.batch_size,\n",
    "    validation_steps=val_generator.samples // val_generator.batch_size,\n",
    "    epochs=20\n",
    ")\n"
   ]
  },
  {
   "cell_type": "code",
   "execution_count": 13,
   "metadata": {},
   "outputs": [],
   "source": [
    "model.save(\"model2.h5\")"
   ]
  },
  {
   "cell_type": "code",
   "execution_count": 14,
   "metadata": {},
   "outputs": [
    {
     "name": "stdout",
     "output_type": "stream",
     "text": [
      "dict_keys(['loss', 'accuracy', 'val_loss', 'val_accuracy'])\n"
     ]
    }
   ],
   "source": [
    "print(history.history.keys())\n"
   ]
  },
  {
   "cell_type": "code",
   "execution_count": 15,
   "metadata": {},
   "outputs": [
    {
     "data": {
      "image/png": "[encoded data removed]",
      "text/plain": [
       "<Figure size 1200x500 with 2 Axes>"
      ]
     },
     "metadata": {},
     "output_type": "display_data"
    }
   ],
   "source": [
    "import matplotlib.pyplot as plt\n",
    "\n",
    "# Plot training accuracy and loss\n",
    "acc = history.history['accuracy']\n",
    "val_acc = history.history['val_accuracy']\n",
    "loss = history.history['loss']\n",
    "val_loss = history.history['val_loss']\n",
    "epochs_range = range(len(acc))\n",
    "\n",
    "plt.figure(figsize=(12, 5))\n",
    "\n",
    "plt.subplot(1, 2, 1)\n",
    "plt.plot(epochs_range, acc, label='Train Accuracy')\n",
    "plt.plot(epochs_range, val_acc, label='Val Accuracy')\n",
    "plt.legend()\n",
    "\n",
    "plt.subplot(1, 2, 2)\n",
    "plt.plot(epochs_range, loss, label='Train Loss')\n",
    "plt.plot(epochs_range, val_loss, label='Val Loss')\n",
    "plt.legend()\n",
    "\n",
    "plt.show()\n"
   ]
  },
  {
   "cell_type": "code",
   "execution_count": 20,
   "metadata": {},
   "outputs": [
    {
     "name": "stdout",
     "output_type": "stream",
     "text": [
      "1/1 [==============================] - 0s 28ms/step\n",
      "Predicted class index: MEL\n"
     ]
    }
   ],
   "source": [
    "import numpy as np\n",
    "from tensorflow.keras.preprocessing import image\n",
    "from tensorflow.keras.models import load_model\n",
    "\n",
    "classes = [\"Akiec\" , \"BCC\" , \"BKL\" , \"DF\" , \"MEL\" , \"NV\" , \"Vasc\"]\n",
    "# Step 2: Load and preprocess the image\n",
    "img_path = r\"D:\\Self_Study\\Tutorials ♥♥\\Machine Learning\\Skin Cancer\\Test Data\\mel\\ISIC_0024310.jpg\"\n",
    "img = image.load_img(img_path, target_size=(img_height, img_width))  # use same size as training\n",
    "img_array = image.img_to_array(img)\n",
    "img_array = img_array / 255.0  # normalize if model was trained this way\n",
    "img_array = np.expand_dims(img_array, axis=0)  # add batch dimension\n",
    "\n",
    "# Step 3: Predict\n",
    "predictions = model.predict(img_array)\n",
    "\n",
    "# Step 4: Interpret\n",
    "predicted_class = np.argmax(predictions, axis=1)\n",
    "print(f\"Predicted class index: {classes[predicted_class[0]]}\")"
   ]
  },
  {
   "cell_type": "code",
   "execution_count": null,
   "metadata": {},
   "outputs": [],
   "source": []
  }
 ],
 "metadata": {
  "kernelspec": {
   "display_name": "Python 3",
   "language": "python",
   "name": "python3"
  },
  "language_info": {
   "codemirror_mode": {
    "name": "ipython",
    "version": 3
   },
   "file_extension": ".py",
   "mimetype": "text/x-python",
   "name": "python",
   "nbconvert_exporter": "python",
   "pygments_lexer": "ipython3",
   "version": "3.10.0"
  }
 },
 "nbformat": 4,
 "nbformat_minor": 2
}
